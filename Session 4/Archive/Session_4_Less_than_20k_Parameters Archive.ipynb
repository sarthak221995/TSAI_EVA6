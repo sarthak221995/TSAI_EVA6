{
  "nbformat": 4,
  "nbformat_minor": 0,
  "metadata": {
    "colab": {
      "name": "Session 4 - Less than 20k Parameters.ipynb",
      "provenance": [],
      "include_colab_link": true
    },
    "kernelspec": {
      "name": "python3",
      "display_name": "Python 3"
    },
    "language_info": {
      "name": "python"
    },
    "accelerator": "GPU"
  },
  "cells": [
    {
      "cell_type": "markdown",
      "metadata": {
        "id": "view-in-github",
        "colab_type": "text"
      },
      "source": [
        "<a href=\"https://colab.research.google.com/github/jai2shan/TSAI_EVA6/blob/main/Session%204/Session_4_Less_than_20k_Parameters%20Archive.ipynb\" target=\"_parent\"><img src=\"https://colab.research.google.com/assets/colab-badge.svg\" alt=\"Open In Colab\"/></a>"
      ]
    },
    {
      "cell_type": "markdown",
      "metadata": {
        "id": "i0javcFTcPcm"
      },
      "source": [
        "## Loading necessary packages"
      ]
    },
    {
      "cell_type": "code",
      "metadata": {
        "id": "Zjw4HW9XcM4g"
      },
      "source": [
        "from __future__ import print_function\n",
        "import torch\n",
        "import torch.nn as nn\n",
        "import torch.nn.functional as F\n",
        "import torch.optim as optim\n",
        "from torchvision import datasets, transforms\n",
        "from torchsummary import summary"
      ],
      "execution_count": 1,
      "outputs": []
    },
    {
      "cell_type": "markdown",
      "metadata": {
        "id": "qyQsXK4ucsJv"
      },
      "source": [
        "## Check for GPU "
      ]
    },
    {
      "cell_type": "code",
      "metadata": {
        "id": "UN6eqNJicWy8"
      },
      "source": [
        "use_cuda = torch.cuda.is_available()\n",
        "device = torch.device(\"cuda\" if use_cuda else \"cpu\")\n",
        "torch.manual_seed(1)\n",
        "# defining batch size for training\n",
        "batch_size = 1024"
      ],
      "execution_count": 2,
      "outputs": []
    },
    {
      "cell_type": "markdown",
      "metadata": {
        "id": "uG-6qbN7cwXS"
      },
      "source": [
        "## Data loading and pre-processing\n",
        "\n",
        "Try Random Rotate"
      ]
    },
    {
      "cell_type": "code",
      "metadata": {
        "id": "2jGyQkX9cgS8"
      },
      "source": [
        "# Keyword arguments for train_loader and test _loader to load images to GPU if the available\n",
        "kwargs = {'num_workers': 1, 'pin_memory': True} if use_cuda else {}\n",
        "\n",
        "train_loader = torch.utils.data.DataLoader(\n",
        "    datasets.MNIST('../data', train=True, download=True,   \n",
        "                    transform=transforms.Compose([\n",
        "                        transforms.ToTensor(), \n",
        "                        transforms.Normalize((0.1307,), (0.3081,)) \n",
        "                    ])),\n",
        "    batch_size=batch_size, shuffle=True, **kwargs) \n",
        "\n",
        "\n",
        "test_loader = torch.utils.data.DataLoader(\n",
        "    datasets.MNIST('../data', train=False, transform=transforms.Compose([\n",
        "                        transforms.ToTensor(),\n",
        "                        transforms.Normalize((0.1307,), (0.3081,))\n",
        "                    ])),\n",
        "    batch_size=batch_size, shuffle=True, **kwargs)"
      ],
      "execution_count": 3,
      "outputs": []
    },
    {
      "cell_type": "markdown",
      "metadata": {
        "id": "VtiIa2LjdIUD"
      },
      "source": [
        "## Training and Testing - Definitions"
      ]
    },
    {
      "cell_type": "code",
      "metadata": {
        "id": "hQKR-5Nic_Vw"
      },
      "source": [
        "from tqdm import tqdm\n",
        "\n",
        "train_losses = []\n",
        "test_losses = []\n",
        "train_acc = []\n",
        "test_acc = []\n",
        "\n",
        "def train(model, device, train_loader, optimizer, epoch):\n",
        "  model.train()\n",
        "  pbar = tqdm(train_loader)\n",
        "  correct = 0\n",
        "  processed = 0\n",
        "  for batch_idx, (data, target) in enumerate(pbar):\n",
        "    # get samples\n",
        "    data, target = data.to(device), target.to(device)\n",
        "\n",
        "    # Init\n",
        "    optimizer.zero_grad()\n",
        "    # In PyTorch, we need to set the gradients to zero before starting to do backpropragation because PyTorch accumulates the gradients on subsequent backward passes. \n",
        "    # Because of this, when you start your training loop, ideally you should zero out the gradients so that you do the parameter update correctly.\n",
        "\n",
        "    # Predict\n",
        "    y_pred = model(data)\n",
        "\n",
        "    # Calculate loss\n",
        "    loss = F.nll_loss(y_pred, target)\n",
        "    train_losses.append(loss)\n",
        "\n",
        "    # Backpropagation\n",
        "    loss.backward()\n",
        "    optimizer.step()\n",
        "\n",
        "    # Update pbar-tqdm\n",
        "    \n",
        "    pred = y_pred.argmax(dim=1, keepdim=True)  # get the index of the max log-probability\n",
        "    correct += pred.eq(target.view_as(pred)).sum().item()\n",
        "    processed += len(data)\n",
        "\n",
        "    pbar.set_description(desc= f'Loss={loss.item()} Batch_id={batch_idx} Accuracy={100*correct/processed:0.2f}')\n",
        "    train_acc.append(100*correct/processed)\n",
        "\n",
        "def test(model, device, test_loader):\n",
        "    model.eval()\n",
        "    test_loss = 0\n",
        "    correct = 0\n",
        "    with torch.no_grad():\n",
        "        for data, target in test_loader:\n",
        "            data, target = data.to(device), target.to(device)\n",
        "            output = model(data)\n",
        "            test_loss += F.nll_loss(output, target, reduction='sum').item()  # sum up batch loss\n",
        "            pred = output.argmax(dim=1, keepdim=True)  # get the index of the max log-probability\n",
        "            correct += pred.eq(target.view_as(pred)).sum().item()\n",
        "\n",
        "    test_loss /= len(test_loader.dataset)\n",
        "    test_losses.append(test_loss)\n",
        "\n",
        "    print('\\nTest set: Average loss: {:.4f}, Accuracy: {}/{} ({:.2f}%)\\n'.format(\n",
        "        test_loss, correct, len(test_loader.dataset),\n",
        "        100. * correct / len(test_loader.dataset)))\n",
        "    \n",
        "    test_acc.append(100. * correct / len(test_loader.dataset))"
      ],
      "execution_count": 4,
      "outputs": []
    },
    {
      "cell_type": "code",
      "metadata": {
        "id": "Pafh58eqdQxL"
      },
      "source": [
        "dropout_value = 0.120\n",
        "\n",
        "class Net(nn.Module):\n",
        "    def __init__(self):\n",
        "        super(Net, self).__init__()\n",
        "        # Input Block\n",
        "        self.convblock1 = nn.Sequential(\n",
        "            nn.Conv2d(in_channels=1, out_channels=24, kernel_size=(3, 3), padding=0, bias=False),\n",
        "            nn.ReLU(),\n",
        "            nn.BatchNorm2d(24),\n",
        "            nn.Dropout(dropout_value)\n",
        "        ) # output_size = 26\n",
        "\n",
        "        # CONVOLUTION BLOCK 1\n",
        "        self.convblock2 = nn.Sequential(\n",
        "            nn.Conv2d(in_channels=24, out_channels=24, kernel_size=(3, 3), padding=0, bias=False),\n",
        "            nn.ReLU(),\n",
        "            nn.BatchNorm2d(24),\n",
        "            nn.Dropout(dropout_value)\n",
        "        ) # output_size = 24\n",
        "\n",
        "        # TRANSITION BLOCK 1\n",
        "        self.convblock3 = nn.Sequential(\n",
        "            nn.Conv2d(in_channels=24, out_channels=22, kernel_size=(1, 1), padding=0, bias=False),\n",
        "        ) # output_size = 24\n",
        "        self.pool1 = nn.MaxPool2d(2, 2) # output_size = 12\n",
        "\n",
        "        # CONVOLUTION BLOCK 2\n",
        "        self.convblock4 = nn.Sequential(\n",
        "            nn.Conv2d(in_channels=22, out_channels=20, kernel_size=(3, 3), padding=0, bias=False),\n",
        "            nn.ReLU(),            \n",
        "            nn.BatchNorm2d(20),\n",
        "            nn.Dropout(dropout_value)\n",
        "        ) # output_size = 10\n",
        "        self.convblock5 = nn.Sequential(\n",
        "            nn.Conv2d(in_channels=20, out_channels=20, kernel_size=(3, 3), padding=0, bias=False),\n",
        "            nn.ReLU(),            \n",
        "            nn.BatchNorm2d(20),\n",
        "            nn.Dropout(dropout_value)\n",
        "        ) # output_size = 8\n",
        "        self.convblock6 = nn.Sequential(\n",
        "            nn.Conv2d(in_channels=20, out_channels=18, kernel_size=(3, 3), padding=0, bias=False),\n",
        "            nn.ReLU(),            \n",
        "            nn.BatchNorm2d(18),\n",
        "            # nn.Dropout(dropout_value)\n",
        "        ) # output_size = 6\n",
        "        self.convblock7 = nn.Sequential(\n",
        "            nn.Conv2d(in_channels=18, out_channels=16, kernel_size=(3, 3), padding=1, bias=False),         \n",
        "            nn.BatchNorm2d(16)\n",
        "        ) # output_size = 6\n",
        "        \n",
        "        # OUTPUT BLOCK\n",
        "        # OUTPUT BLOCK\n",
        "        self.gap = nn.Sequential(\n",
        "            nn.AvgPool2d(kernel_size=6)\n",
        "        ) # output_size = 1\n",
        "\n",
        "        self.convblock8 = nn.Sequential(\n",
        "            nn.Conv2d(in_channels=16, out_channels=10, kernel_size=(1, 1), padding=0, bias=False),\n",
        "        ) \n",
        "        self.dropout = nn.Dropout(dropout_value)\n",
        "        self.ln = nn.Linear(10,10)\n",
        "\n",
        "\n",
        "    def forward(self, img):\n",
        "      img = self.convblock1(img)\n",
        "      img = self.convblock2(img)\n",
        "      img = self.convblock3(img)\n",
        "      img = self.pool1(img)\n",
        "      img = self.convblock4(img)\n",
        "      img = self.convblock5(img)\n",
        "      img = self.convblock6(img)\n",
        "      img = self.convblock7(img)\n",
        "      img = self.gap(img)  \n",
        "      img = self.convblock8(img)      \n",
        "      img = img.view(-1, 10)\n",
        "      \n",
        "      img = self.ln(img)\n",
        "      \n",
        "      return F.log_softmax(img, dim=-1)"
      ],
      "execution_count": 9,
      "outputs": []
    },
    {
      "cell_type": "code",
      "metadata": {
        "colab": {
          "base_uri": "https://localhost:8080/"
        },
        "id": "RefuYalUfQ50",
        "outputId": "d16e98f0-d51b-4858-e72d-e83e4c025612"
      },
      "source": [
        "model = Net().to(device)\n",
        "summary(model, input_size=(1, 28, 28))"
      ],
      "execution_count": 10,
      "outputs": [
        {
          "output_type": "stream",
          "text": [
            "----------------------------------------------------------------\n",
            "        Layer (type)               Output Shape         Param #\n",
            "================================================================\n",
            "            Conv2d-1           [-1, 24, 26, 26]             216\n",
            "              ReLU-2           [-1, 24, 26, 26]               0\n",
            "       BatchNorm2d-3           [-1, 24, 26, 26]              48\n",
            "           Dropout-4           [-1, 24, 26, 26]               0\n",
            "            Conv2d-5           [-1, 24, 24, 24]           5,184\n",
            "              ReLU-6           [-1, 24, 24, 24]               0\n",
            "       BatchNorm2d-7           [-1, 24, 24, 24]              48\n",
            "           Dropout-8           [-1, 24, 24, 24]               0\n",
            "            Conv2d-9           [-1, 22, 24, 24]             528\n",
            "        MaxPool2d-10           [-1, 22, 12, 12]               0\n",
            "           Conv2d-11           [-1, 20, 10, 10]           3,960\n",
            "             ReLU-12           [-1, 20, 10, 10]               0\n",
            "      BatchNorm2d-13           [-1, 20, 10, 10]              40\n",
            "          Dropout-14           [-1, 20, 10, 10]               0\n",
            "           Conv2d-15             [-1, 20, 8, 8]           3,600\n",
            "             ReLU-16             [-1, 20, 8, 8]               0\n",
            "      BatchNorm2d-17             [-1, 20, 8, 8]              40\n",
            "          Dropout-18             [-1, 20, 8, 8]               0\n",
            "           Conv2d-19             [-1, 18, 6, 6]           3,240\n",
            "             ReLU-20             [-1, 18, 6, 6]               0\n",
            "      BatchNorm2d-21             [-1, 18, 6, 6]              36\n",
            "           Conv2d-22             [-1, 16, 6, 6]           2,592\n",
            "      BatchNorm2d-23             [-1, 16, 6, 6]              32\n",
            "        AvgPool2d-24             [-1, 16, 1, 1]               0\n",
            "           Conv2d-25             [-1, 10, 1, 1]             160\n",
            "           Linear-26                   [-1, 10]             110\n",
            "================================================================\n",
            "Total params: 19,834\n",
            "Trainable params: 19,834\n",
            "Non-trainable params: 0\n",
            "----------------------------------------------------------------\n",
            "Input size (MB): 0.00\n",
            "Forward/backward pass size (MB): 1.16\n",
            "Params size (MB): 0.08\n",
            "Estimated Total Size (MB): 1.24\n",
            "----------------------------------------------------------------\n"
          ],
          "name": "stdout"
        }
      ]
    },
    {
      "cell_type": "code",
      "metadata": {
        "colab": {
          "base_uri": "https://localhost:8080/"
        },
        "id": "-caulp-HfhGU",
        "outputId": "9fc10cef-7cae-4294-ff69-85c738a05aa2"
      },
      "source": [
        "model =  Net().to(device)\n",
        "optimizer = optim.SGD(model.parameters(), lr=0.0225, momentum=0.9)\n",
        "EPOCHS = 20\n",
        "for epoch in range(EPOCHS):\n",
        "    print(\"EPOCH:\", epoch)\n",
        "    train(model, device, train_loader, optimizer, epoch)\n",
        "    test(model, device, test_loader)"
      ],
      "execution_count": null,
      "outputs": [
        {
          "output_type": "stream",
          "text": [
            "\r  0%|          | 0/59 [00:00<?, ?it/s]"
          ],
          "name": "stderr"
        },
        {
          "output_type": "stream",
          "text": [
            "EPOCH: 0\n"
          ],
          "name": "stdout"
        },
        {
          "output_type": "stream",
          "text": [
            "Loss=0.41374099254608154 Batch_id=58 Accuracy=56.32: 100%|██████████| 59/59 [00:12<00:00,  4.61it/s]\n",
            "  0%|          | 0/59 [00:00<?, ?it/s]"
          ],
          "name": "stderr"
        },
        {
          "output_type": "stream",
          "text": [
            "\n",
            "Test set: Average loss: 0.4273, Accuracy: 8783/10000 (87.83%)\n",
            "\n",
            "EPOCH: 1\n"
          ],
          "name": "stdout"
        },
        {
          "output_type": "stream",
          "text": [
            "Loss=0.12773652374744415 Batch_id=58 Accuracy=95.05: 100%|██████████| 59/59 [00:12<00:00,  4.60it/s]\n",
            "  0%|          | 0/59 [00:00<?, ?it/s]"
          ],
          "name": "stderr"
        },
        {
          "output_type": "stream",
          "text": [
            "\n",
            "Test set: Average loss: 0.1981, Accuracy: 9372/10000 (93.72%)\n",
            "\n",
            "EPOCH: 2\n"
          ],
          "name": "stdout"
        },
        {
          "output_type": "stream",
          "text": [
            "Loss=0.07272785902023315 Batch_id=58 Accuracy=97.28: 100%|██████████| 59/59 [00:12<00:00,  4.63it/s]\n",
            "  0%|          | 0/59 [00:00<?, ?it/s]"
          ],
          "name": "stderr"
        },
        {
          "output_type": "stream",
          "text": [
            "\n",
            "Test set: Average loss: 0.0866, Accuracy: 9746/10000 (97.46%)\n",
            "\n",
            "EPOCH: 3\n"
          ],
          "name": "stdout"
        },
        {
          "output_type": "stream",
          "text": [
            "Loss=0.07612021267414093 Batch_id=58 Accuracy=98.00: 100%|██████████| 59/59 [00:12<00:00,  4.64it/s]\n",
            "  0%|          | 0/59 [00:00<?, ?it/s]"
          ],
          "name": "stderr"
        },
        {
          "output_type": "stream",
          "text": [
            "\n",
            "Test set: Average loss: 0.1066, Accuracy: 9684/10000 (96.84%)\n",
            "\n",
            "EPOCH: 4\n"
          ],
          "name": "stdout"
        },
        {
          "output_type": "stream",
          "text": [
            "Loss=0.05471894517540932 Batch_id=58 Accuracy=98.34: 100%|██████████| 59/59 [00:12<00:00,  4.60it/s]\n",
            "  0%|          | 0/59 [00:00<?, ?it/s]"
          ],
          "name": "stderr"
        },
        {
          "output_type": "stream",
          "text": [
            "\n",
            "Test set: Average loss: 0.0652, Accuracy: 9811/10000 (98.11%)\n",
            "\n",
            "EPOCH: 5\n"
          ],
          "name": "stdout"
        },
        {
          "output_type": "stream",
          "text": [
            "Loss=0.049045950174331665 Batch_id=58 Accuracy=98.48: 100%|██████████| 59/59 [00:12<00:00,  4.62it/s]\n",
            "  0%|          | 0/59 [00:00<?, ?it/s]"
          ],
          "name": "stderr"
        },
        {
          "output_type": "stream",
          "text": [
            "\n",
            "Test set: Average loss: 0.0619, Accuracy: 9817/10000 (98.17%)\n",
            "\n",
            "EPOCH: 6\n"
          ],
          "name": "stdout"
        },
        {
          "output_type": "stream",
          "text": [
            "Loss=0.050075698643922806 Batch_id=58 Accuracy=98.68: 100%|██████████| 59/59 [00:12<00:00,  4.60it/s]\n",
            "  0%|          | 0/59 [00:00<?, ?it/s]"
          ],
          "name": "stderr"
        },
        {
          "output_type": "stream",
          "text": [
            "\n",
            "Test set: Average loss: 0.0569, Accuracy: 9828/10000 (98.28%)\n",
            "\n",
            "EPOCH: 7\n"
          ],
          "name": "stdout"
        },
        {
          "output_type": "stream",
          "text": [
            "Loss=0.04572123661637306 Batch_id=58 Accuracy=98.81: 100%|██████████| 59/59 [00:12<00:00,  4.63it/s]\n",
            "  0%|          | 0/59 [00:00<?, ?it/s]"
          ],
          "name": "stderr"
        },
        {
          "output_type": "stream",
          "text": [
            "\n",
            "Test set: Average loss: 0.0492, Accuracy: 9862/10000 (98.62%)\n",
            "\n",
            "EPOCH: 8\n"
          ],
          "name": "stdout"
        },
        {
          "output_type": "stream",
          "text": [
            "Loss=0.04324808344244957 Batch_id=58 Accuracy=98.94: 100%|██████████| 59/59 [00:12<00:00,  4.65it/s]\n",
            "  0%|          | 0/59 [00:00<?, ?it/s]"
          ],
          "name": "stderr"
        },
        {
          "output_type": "stream",
          "text": [
            "\n",
            "Test set: Average loss: 0.0495, Accuracy: 9869/10000 (98.69%)\n",
            "\n",
            "EPOCH: 9\n"
          ],
          "name": "stdout"
        },
        {
          "output_type": "stream",
          "text": [
            "Loss=0.039581749588251114 Batch_id=56 Accuracy=98.87:  97%|█████████▋| 57/59 [00:12<00:00,  4.54it/s]"
          ],
          "name": "stderr"
        }
      ]
    },
    {
      "cell_type": "code",
      "metadata": {
        "id": "oXvnkQ_CfyWF"
      },
      "source": [
        ""
      ],
      "execution_count": 7,
      "outputs": []
    }
  ]
}