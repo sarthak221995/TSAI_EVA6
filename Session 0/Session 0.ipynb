{
 "cells": [
  {
   "cell_type": "markdown",
   "id": "347daab3",
   "metadata": {},
   "source": [
    "## Assignment"
   ]
  },
  {
   "cell_type": "markdown",
   "id": "f64838cf",
   "metadata": {},
   "source": [
    "1) What are Channels and Kernels (according to EVA)?      \n",
    "2) Why should we (nearly) always use 3x3 kernels?      \n",
    "3) How many times do we need to perform 3x3 convolutions operations to reach close to 1x1 from 199x199 (type each layer output    like 199x199 > 197x197...)      \n",
    "4) How are kernels initialized?       \n",
    "5) What happens during the training of a DNN?      "
   ]
  },
  {
   "cell_type": "markdown",
   "id": "4c29d9e8",
   "metadata": {},
   "source": [
    "## Answers"
   ]
  },
  {
   "cell_type": "markdown",
   "id": "a8cd0eb1",
   "metadata": {},
   "source": [
    "#### 4) How are kernels initialized?"
   ]
  },
  {
   "cell_type": "markdown",
   "id": "a2be98bb",
   "metadata": {},
   "source": [
    "Kernel over the input data, performs the dot product with the sub-region of input data, and gets the output as the matrix of dot products. In short, the kernel is used to extract high-level features like edges from the image."
   ]
  },
  {
   "cell_type": "markdown",
   "id": "8d413c99",
   "metadata": {},
   "source": [
    "Before the advances in optimization techniques and activation of non linearities, kernel is initializes from a random distribution. With advances, all the advances we are able to train convolutional neural networks from a randomized initialization.\n",
    "\n",
    "Weights of the backpropagation will be randomly initialized such that the mean of the distribution weights is 0 and standard deviation of 1.\n",
    "\n",
    "Source : https://stats.stackexchange.com/questions/200513/how-to-initialize-the-elements-of-the-filter-matrix\n",
    "\n",
    "###### Potential Problems with Weight Initializations\n",
    "1) If the weights are too small, then the signal shrinks as it passes through each layer. Ends up with very small value to use.      \n",
    "2) If the weights are too large, then the signal grows too large as it passes through each layer, which will bevery large by the time it ends    \n",
    "\n",
    "Xavier Initialization takes care of this problem. For more understanding on Xavier initialization below blog and vlog can be used.      \n",
    "https://andyljones.tumblr.com/post/110998971763/an-explanation-of-xavier-initialization     \n",
    "https://www.youtube.com/watch?v=8krd5qKVw-Q    \n",
    "Paper on Xavier Initialization : http://proceedings.mlr.press/v9/glorot10a/glorot10a.pdf"
   ]
  },
  {
   "cell_type": "markdown",
   "id": "347fd83f",
   "metadata": {},
   "source": [
    "#### 5) What happens during the training of a DNN?      "
   ]
  },
  {
   "cell_type": "markdown",
   "id": "74acbb7f",
   "metadata": {},
   "source": [
    "<img src=\"images/1_vkQ0hXDaQv57sALXAJquxA.jpeg\"  />"
   ]
  },
  {
   "cell_type": "markdown",
   "id": "e9147c31",
   "metadata": {},
   "source": [
    "\n",
    "Mainly Two things happen in CNN               \n",
    "1)Feature Learning: Series of convolutional layers that convolve with a multiplication or other dot product                  \n",
    "2)Classification: Activation function is commonly a RELU layer, and is subsequently followed by additional convolutions such as pooling layers, fully connected layers and normalization layers, referred to as hidden layers because their inputs and outputs are masked by the activation function and final convolution.                   \n",
    "The final convolution, in turn, often involves backpropagation in order to more accurately weight the end product."
   ]
  },
  {
   "cell_type": "code",
   "execution_count": 4,
   "id": "71deb7d1",
   "metadata": {},
   "outputs": [
    {
     "name": "stdout",
     "output_type": "stream",
     "text": [
      "199x199 | 3x3 > 197x197\n",
      "197x197 | 3x3 > 195x195\n",
      "195x195 | 3x3 > 193x193\n",
      "193x193 | 3x3 > 191x191\n",
      "191x191 | 3x3 > 189x189\n",
      "189x189 | 3x3 > 187x187\n",
      "187x187 | 3x3 > 185x185\n",
      "185x185 | 3x3 > 183x183\n",
      "183x183 | 3x3 > 181x181\n",
      "181x181 | 3x3 > 179x179\n",
      "179x179 | 3x3 > 177x177\n",
      "177x177 | 3x3 > 175x175\n",
      "175x175 | 3x3 > 173x173\n",
      "173x173 | 3x3 > 171x171\n",
      "171x171 | 3x3 > 169x169\n",
      "169x169 | 3x3 > 167x167\n",
      "167x167 | 3x3 > 165x165\n",
      "165x165 | 3x3 > 163x163\n",
      "163x163 | 3x3 > 161x161\n",
      "161x161 | 3x3 > 159x159\n",
      "159x159 | 3x3 > 157x157\n",
      "157x157 | 3x3 > 155x155\n",
      "155x155 | 3x3 > 153x153\n",
      "153x153 | 3x3 > 151x151\n",
      "151x151 | 3x3 > 149x149\n",
      "149x149 | 3x3 > 147x147\n",
      "147x147 | 3x3 > 145x145\n",
      "145x145 | 3x3 > 143x143\n",
      "143x143 | 3x3 > 141x141\n",
      "141x141 | 3x3 > 139x139\n",
      "139x139 | 3x3 > 137x137\n",
      "137x137 | 3x3 > 135x135\n",
      "135x135 | 3x3 > 133x133\n",
      "133x133 | 3x3 > 131x131\n",
      "131x131 | 3x3 > 129x129\n",
      "129x129 | 3x3 > 127x127\n",
      "127x127 | 3x3 > 125x125\n",
      "125x125 | 3x3 > 123x123\n",
      "123x123 | 3x3 > 121x121\n",
      "121x121 | 3x3 > 119x119\n",
      "119x119 | 3x3 > 117x117\n",
      "117x117 | 3x3 > 115x115\n",
      "115x115 | 3x3 > 113x113\n",
      "113x113 | 3x3 > 111x111\n",
      "111x111 | 3x3 > 109x109\n",
      "109x109 | 3x3 > 107x107\n",
      "107x107 | 3x3 > 105x105\n",
      "105x105 | 3x3 > 103x103\n",
      "103x103 | 3x3 > 101x101\n",
      "101x101 | 3x3 > 99x99\n",
      "99x99 | 3x3 > 97x97\n",
      "97x97 | 3x3 > 95x95\n",
      "95x95 | 3x3 > 93x93\n",
      "93x93 | 3x3 > 91x91\n",
      "91x91 | 3x3 > 89x89\n",
      "89x89 | 3x3 > 87x87\n",
      "87x87 | 3x3 > 85x85\n",
      "85x85 | 3x3 > 83x83\n",
      "83x83 | 3x3 > 81x81\n",
      "81x81 | 3x3 > 79x79\n",
      "79x79 | 3x3 > 77x77\n",
      "77x77 | 3x3 > 75x75\n",
      "75x75 | 3x3 > 73x73\n",
      "73x73 | 3x3 > 71x71\n",
      "71x71 | 3x3 > 69x69\n",
      "69x69 | 3x3 > 67x67\n",
      "67x67 | 3x3 > 65x65\n",
      "65x65 | 3x3 > 63x63\n",
      "63x63 | 3x3 > 61x61\n",
      "61x61 | 3x3 > 59x59\n",
      "59x59 | 3x3 > 57x57\n",
      "57x57 | 3x3 > 55x55\n",
      "55x55 | 3x3 > 53x53\n",
      "53x53 | 3x3 > 51x51\n",
      "51x51 | 3x3 > 49x49\n",
      "49x49 | 3x3 > 47x47\n",
      "47x47 | 3x3 > 45x45\n",
      "45x45 | 3x3 > 43x43\n",
      "43x43 | 3x3 > 41x41\n",
      "41x41 | 3x3 > 39x39\n",
      "39x39 | 3x3 > 37x37\n",
      "37x37 | 3x3 > 35x35\n",
      "35x35 | 3x3 > 33x33\n",
      "33x33 | 3x3 > 31x31\n",
      "31x31 | 3x3 > 29x29\n",
      "29x29 | 3x3 > 27x27\n",
      "27x27 | 3x3 > 25x25\n",
      "25x25 | 3x3 > 23x23\n",
      "23x23 | 3x3 > 21x21\n",
      "21x21 | 3x3 > 19x19\n",
      "19x19 | 3x3 > 17x17\n",
      "17x17 | 3x3 > 15x15\n",
      "15x15 | 3x3 > 13x13\n",
      "13x13 | 3x3 > 11x11\n",
      "11x11 | 3x3 > 9x9\n",
      "9x9 | 3x3 > 7x7\n",
      "7x7 | 3x3 > 5x5\n",
      "5x5 | 3x3 > 3x3\n",
      "3x3 | 3x3 > 1x1\n",
      "1x1 | 3x3 > -1x-1\n"
     ]
    }
   ],
   "source": [
    "j = 199\n",
    "\n",
    "while j>=1:\n",
    "    print('{}x{} | 3x3 > {}x{}'.format(j,j,j-2,j-2))\n",
    "    j = j-2"
   ]
  },
  {
   "cell_type": "code",
   "execution_count": null,
   "id": "b0ffb666",
   "metadata": {},
   "outputs": [],
   "source": []
  },
  {
   "cell_type": "code",
   "execution_count": null,
   "id": "77a79915",
   "metadata": {},
   "outputs": [],
   "source": []
  },
  {
   "cell_type": "code",
   "execution_count": null,
   "id": "53bef7e4",
   "metadata": {},
   "outputs": [],
   "source": []
  },
  {
   "cell_type": "code",
   "execution_count": null,
   "id": "2bcfa962",
   "metadata": {},
   "outputs": [],
   "source": []
  },
  {
   "cell_type": "code",
   "execution_count": null,
   "id": "14595968",
   "metadata": {},
   "outputs": [],
   "source": []
  }
 ],
 "metadata": {
  "kernelspec": {
   "display_name": "Python 3",
   "language": "python",
   "name": "python3"
  },
  "language_info": {
   "codemirror_mode": {
    "name": "ipython",
    "version": 3
   },
   "file_extension": ".py",
   "mimetype": "text/x-python",
   "name": "python",
   "nbconvert_exporter": "python",
   "pygments_lexer": "ipython3",
   "version": "3.8.3"
  }
 },
 "nbformat": 4,
 "nbformat_minor": 5
}
