{
  "nbformat": 4,
  "nbformat_minor": 0,
  "metadata": {
    "colab": {
      "name": "Session 4 - Less than 20k Parameters.ipynb",
      "provenance": [],
      "include_colab_link": true
    },
    "kernelspec": {
      "name": "python3",
      "display_name": "Python 3"
    },
    "language_info": {
      "name": "python"
    },
    "accelerator": "GPU"
  },
  "cells": [
    {
      "cell_type": "markdown",
      "metadata": {
        "id": "view-in-github",
        "colab_type": "text"
      },
      "source": [
        "<a href=\"https://colab.research.google.com/github/jai2shan/TSAI_EVA6/blob/main/Session%204/Session_4_Less_than_20k_Parameters%209935%20FC%20Layer.ipynb\" target=\"_parent\"><img src=\"https://colab.research.google.com/assets/colab-badge.svg\" alt=\"Open In Colab\"/></a>"
      ]
    },
    {
      "cell_type": "markdown",
      "metadata": {
        "id": "i0javcFTcPcm"
      },
      "source": [
        "## Loading necessary packages"
      ]
    },
    {
      "cell_type": "code",
      "metadata": {
        "id": "Zjw4HW9XcM4g"
      },
      "source": [
        "from __future__ import print_function\n",
        "import torch\n",
        "import torch.nn as nn\n",
        "import torch.nn.functional as F\n",
        "import torch.optim as optim\n",
        "from torchvision import datasets, transforms\n",
        "from torchsummary import summary"
      ],
      "execution_count": 1,
      "outputs": []
    },
    {
      "cell_type": "markdown",
      "metadata": {
        "id": "qyQsXK4ucsJv"
      },
      "source": [
        "## Check for GPU "
      ]
    },
    {
      "cell_type": "code",
      "metadata": {
        "id": "UN6eqNJicWy8"
      },
      "source": [
        "use_cuda = torch.cuda.is_available()\n",
        "device = torch.device(\"cuda\" if use_cuda else \"cpu\")\n",
        "torch.manual_seed(1)\n",
        "# defining batch size for training\n",
        "batch_size = 1024"
      ],
      "execution_count": 2,
      "outputs": []
    },
    {
      "cell_type": "markdown",
      "metadata": {
        "id": "uG-6qbN7cwXS"
      },
      "source": [
        "## Data loading and pre-processing\n",
        "\n",
        "Try Random Rotate"
      ]
    },
    {
      "cell_type": "code",
      "metadata": {
        "id": "2jGyQkX9cgS8"
      },
      "source": [
        "# Keyword arguments for train_loader and test _loader to load images to GPU if the available\n",
        "kwargs = {'num_workers': 1, 'pin_memory': True} if use_cuda else {}\n",
        "\n",
        "train_loader = torch.utils.data.DataLoader(\n",
        "    datasets.MNIST('../data', train=True, download=True,   \n",
        "                    transform=transforms.Compose([\n",
        "                        transforms.ToTensor(), \n",
        "                        transforms.Normalize((0.1307,), (0.3081,)) \n",
        "                    ])),\n",
        "    batch_size=batch_size, shuffle=True, **kwargs) \n",
        "\n",
        "\n",
        "test_loader = torch.utils.data.DataLoader(\n",
        "    datasets.MNIST('../data', train=False, transform=transforms.Compose([\n",
        "                        transforms.ToTensor(),\n",
        "                        transforms.Normalize((0.1307,), (0.3081,))\n",
        "                    ])),\n",
        "    batch_size=batch_size, shuffle=True, **kwargs)"
      ],
      "execution_count": 3,
      "outputs": []
    },
    {
      "cell_type": "markdown",
      "metadata": {
        "id": "VtiIa2LjdIUD"
      },
      "source": [
        "## Training and Testing - Definitions"
      ]
    },
    {
      "cell_type": "code",
      "metadata": {
        "id": "hQKR-5Nic_Vw"
      },
      "source": [
        "from tqdm import tqdm\n",
        "\n",
        "train_losses = []\n",
        "test_losses = []\n",
        "train_acc = []\n",
        "test_acc = []\n",
        "\n",
        "def train(model, device, train_loader, optimizer, epoch):\n",
        "  model.train()\n",
        "  pbar = tqdm(train_loader)\n",
        "  correct = 0\n",
        "  processed = 0\n",
        "  for batch_idx, (data, target) in enumerate(pbar):\n",
        "    # get samples\n",
        "    data, target = data.to(device), target.to(device)\n",
        "\n",
        "    # Init\n",
        "    optimizer.zero_grad()\n",
        "    # In PyTorch, we need to set the gradients to zero before starting to do backpropragation because PyTorch accumulates the gradients on subsequent backward passes. \n",
        "    # Because of this, when you start your training loop, ideally you should zero out the gradients so that you do the parameter update correctly.\n",
        "\n",
        "    # Predict\n",
        "    y_pred = model(data)\n",
        "\n",
        "    # Calculate loss\n",
        "    loss = F.nll_loss(y_pred, target)\n",
        "    train_losses.append(loss)\n",
        "\n",
        "    # Backpropagation\n",
        "    loss.backward()\n",
        "    optimizer.step()\n",
        "\n",
        "    # Update pbar-tqdm\n",
        "    \n",
        "    pred = y_pred.argmax(dim=1, keepdim=True)  # get the index of the max log-probability\n",
        "    correct += pred.eq(target.view_as(pred)).sum().item()\n",
        "    processed += len(data)\n",
        "\n",
        "    pbar.set_description(desc= f'Loss={loss.item()} Batch_id={batch_idx} Accuracy={100*correct/processed:0.2f}')\n",
        "    train_acc.append(100*correct/processed)\n",
        "\n",
        "def test(model, device, test_loader):\n",
        "    model.eval()\n",
        "    test_loss = 0\n",
        "    correct = 0\n",
        "    with torch.no_grad():\n",
        "        for data, target in test_loader:\n",
        "            data, target = data.to(device), target.to(device)\n",
        "            output = model(data)\n",
        "            test_loss += F.nll_loss(output, target, reduction='sum').item()  # sum up batch loss\n",
        "            pred = output.argmax(dim=1, keepdim=True)  # get the index of the max log-probability\n",
        "            correct += pred.eq(target.view_as(pred)).sum().item()\n",
        "\n",
        "    test_loss /= len(test_loader.dataset)\n",
        "    test_losses.append(test_loss)\n",
        "\n",
        "    print('\\nTest set: Average loss: {:.4f}, Accuracy: {}/{} ({:.2f}%)\\n'.format(\n",
        "        test_loss, correct, len(test_loader.dataset),\n",
        "        100. * correct / len(test_loader.dataset)))\n",
        "    \n",
        "    test_acc.append(100. * correct / len(test_loader.dataset))"
      ],
      "execution_count": 4,
      "outputs": []
    },
    {
      "cell_type": "code",
      "metadata": {
        "id": "Pafh58eqdQxL"
      },
      "source": [
        "dropout_value = 0.1\n",
        "\n",
        "class Net(nn.Module):\n",
        "    def __init__(self):\n",
        "        super(Net, self).__init__()\n",
        "        # Input Block\n",
        "        self.convblock1 = nn.Sequential(\n",
        "            nn.Conv2d(in_channels=1, out_channels=24, kernel_size=(3, 3), padding=0, bias=False),\n",
        "            nn.ReLU(),\n",
        "            nn.BatchNorm2d(24),\n",
        "            nn.Dropout(dropout_value)\n",
        "        ) # output_size = 26\n",
        "\n",
        "        # CONVOLUTION BLOCK 1\n",
        "        self.convblock2 = nn.Sequential(\n",
        "            nn.Conv2d(in_channels=24, out_channels=24, kernel_size=(3, 3), padding=0, bias=False),\n",
        "            nn.ReLU(),\n",
        "            nn.BatchNorm2d(24),\n",
        "            nn.Dropout(dropout_value)\n",
        "        ) # output_size = 24\n",
        "\n",
        "        # TRANSITION BLOCK 1\n",
        "        self.convblock3 = nn.Sequential(\n",
        "            nn.Conv2d(in_channels=24, out_channels=22, kernel_size=(1, 1), padding=0, bias=False),\n",
        "        ) # output_size = 24\n",
        "        self.pool1 = nn.MaxPool2d(2, 2) # output_size = 12\n",
        "\n",
        "        # CONVOLUTION BLOCK 2\n",
        "        self.convblock4 = nn.Sequential(\n",
        "            nn.Conv2d(in_channels=22, out_channels=20, kernel_size=(3, 3), padding=0, bias=False),\n",
        "            nn.ReLU(),            \n",
        "            nn.BatchNorm2d(20),\n",
        "            nn.Dropout(dropout_value)\n",
        "        ) # output_size = 10\n",
        "        self.convblock5 = nn.Sequential(\n",
        "            nn.Conv2d(in_channels=20, out_channels=20, kernel_size=(3, 3), padding=0, bias=False),\n",
        "            nn.ReLU(),            \n",
        "            nn.BatchNorm2d(20),\n",
        "            nn.Dropout(dropout_value)\n",
        "        ) # output_size = 8\n",
        "        self.convblock6 = nn.Sequential(\n",
        "            nn.Conv2d(in_channels=20, out_channels=18, kernel_size=(3, 3), padding=0, bias=False),\n",
        "            nn.ReLU(),            \n",
        "            nn.BatchNorm2d(18),\n",
        "            # nn.Dropout(dropout_value)\n",
        "        ) # output_size = 6\n",
        "        self.convblock7 = nn.Sequential(\n",
        "            nn.Conv2d(in_channels=18, out_channels=16, kernel_size=(3, 3), padding=1, bias=False),         \n",
        "            nn.BatchNorm2d(16)\n",
        "        ) # output_size = 6\n",
        "        \n",
        "        # OUTPUT BLOCK\n",
        "        # OUTPUT BLOCK\n",
        "        self.gap = nn.Sequential(\n",
        "            nn.AvgPool2d(kernel_size=6)\n",
        "        ) # output_size = 1\n",
        "\n",
        "        self.convblock8 = nn.Sequential(\n",
        "            nn.Conv2d(in_channels=16, out_channels=10, kernel_size=(1, 1), padding=0, bias=False),\n",
        "        ) \n",
        "        self.dropout = nn.Dropout(dropout_value)\n",
        "        self.ln = nn.Linear(10,10)\n",
        "\n",
        "\n",
        "    def forward(self, img):\n",
        "      img = self.convblock1(img)\n",
        "      img = self.convblock2(img)\n",
        "      img = self.convblock3(img)\n",
        "      img = self.pool1(img)\n",
        "      img = self.convblock4(img)\n",
        "      img = self.convblock5(img)\n",
        "      img = self.convblock6(img)\n",
        "      img = self.convblock7(img)\n",
        "      img = self.gap(img)  \n",
        "      img = self.convblock8(img)      \n",
        "      img = img.view(-1, 10)\n",
        "      \n",
        "      img = self.ln(img)\n",
        "      \n",
        "      return F.log_softmax(img, dim=-1)"
      ],
      "execution_count": 5,
      "outputs": []
    },
    {
      "cell_type": "code",
      "metadata": {
        "colab": {
          "base_uri": "https://localhost:8080/"
        },
        "id": "RefuYalUfQ50",
        "outputId": "87ad84f5-5357-48e9-fa0c-bab351dc9e64"
      },
      "source": [
        "model = Net().to(device)\n",
        "summary(model, input_size=(1, 28, 28))"
      ],
      "execution_count": 6,
      "outputs": [
        {
          "output_type": "stream",
          "text": [
            "----------------------------------------------------------------\n",
            "        Layer (type)               Output Shape         Param #\n",
            "================================================================\n",
            "            Conv2d-1           [-1, 24, 26, 26]             216\n",
            "              ReLU-2           [-1, 24, 26, 26]               0\n",
            "       BatchNorm2d-3           [-1, 24, 26, 26]              48\n",
            "           Dropout-4           [-1, 24, 26, 26]               0\n",
            "            Conv2d-5           [-1, 24, 24, 24]           5,184\n",
            "              ReLU-6           [-1, 24, 24, 24]               0\n",
            "       BatchNorm2d-7           [-1, 24, 24, 24]              48\n",
            "           Dropout-8           [-1, 24, 24, 24]               0\n",
            "            Conv2d-9           [-1, 22, 24, 24]             528\n",
            "        MaxPool2d-10           [-1, 22, 12, 12]               0\n",
            "           Conv2d-11           [-1, 20, 10, 10]           3,960\n",
            "             ReLU-12           [-1, 20, 10, 10]               0\n",
            "      BatchNorm2d-13           [-1, 20, 10, 10]              40\n",
            "          Dropout-14           [-1, 20, 10, 10]               0\n",
            "           Conv2d-15             [-1, 20, 8, 8]           3,600\n",
            "             ReLU-16             [-1, 20, 8, 8]               0\n",
            "      BatchNorm2d-17             [-1, 20, 8, 8]              40\n",
            "          Dropout-18             [-1, 20, 8, 8]               0\n",
            "           Conv2d-19             [-1, 18, 6, 6]           3,240\n",
            "             ReLU-20             [-1, 18, 6, 6]               0\n",
            "      BatchNorm2d-21             [-1, 18, 6, 6]              36\n",
            "           Conv2d-22             [-1, 16, 6, 6]           2,592\n",
            "      BatchNorm2d-23             [-1, 16, 6, 6]              32\n",
            "        AvgPool2d-24             [-1, 16, 1, 1]               0\n",
            "           Conv2d-25             [-1, 10, 1, 1]             160\n",
            "           Linear-26                   [-1, 10]             110\n",
            "================================================================\n",
            "Total params: 19,834\n",
            "Trainable params: 19,834\n",
            "Non-trainable params: 0\n",
            "----------------------------------------------------------------\n",
            "Input size (MB): 0.00\n",
            "Forward/backward pass size (MB): 1.16\n",
            "Params size (MB): 0.08\n",
            "Estimated Total Size (MB): 1.24\n",
            "----------------------------------------------------------------\n"
          ],
          "name": "stdout"
        }
      ]
    },
    {
      "cell_type": "code",
      "metadata": {
        "colab": {
          "base_uri": "https://localhost:8080/"
        },
        "id": "-caulp-HfhGU",
        "outputId": "d90f1c6d-4796-4a53-ce81-c4c65dcac864"
      },
      "source": [
        "model =  Net().to(device)\n",
        "optimizer = optim.SGD(model.parameters(), lr=0.02, momentum=0.9)\n",
        "EPOCHS = 20\n",
        "for epoch in range(EPOCHS):\n",
        "    print(\"EPOCH:\", epoch)\n",
        "    train(model, device, train_loader, optimizer, epoch)\n",
        "    test(model, device, test_loader)"
      ],
      "execution_count": 7,
      "outputs": [
        {
          "output_type": "stream",
          "text": [
            "\r  0%|          | 0/59 [00:00<?, ?it/s]"
          ],
          "name": "stderr"
        },
        {
          "output_type": "stream",
          "text": [
            "EPOCH: 0\n"
          ],
          "name": "stdout"
        },
        {
          "output_type": "stream",
          "text": [
            "Loss=0.6585366725921631 Batch_id=58 Accuracy=48.27: 100%|██████████| 59/59 [00:12<00:00,  4.67it/s]\n",
            "  0%|          | 0/59 [00:00<?, ?it/s]"
          ],
          "name": "stderr"
        },
        {
          "output_type": "stream",
          "text": [
            "\n",
            "Test set: Average loss: 0.5741, Accuracy: 8103/10000 (81.03%)\n",
            "\n",
            "EPOCH: 1\n"
          ],
          "name": "stdout"
        },
        {
          "output_type": "stream",
          "text": [
            "Loss=0.17149756848812103 Batch_id=58 Accuracy=93.05: 100%|██████████| 59/59 [00:12<00:00,  4.64it/s]\n",
            "  0%|          | 0/59 [00:00<?, ?it/s]"
          ],
          "name": "stderr"
        },
        {
          "output_type": "stream",
          "text": [
            "\n",
            "Test set: Average loss: 0.1233, Accuracy: 9693/10000 (96.93%)\n",
            "\n",
            "EPOCH: 2\n"
          ],
          "name": "stdout"
        },
        {
          "output_type": "stream",
          "text": [
            "Loss=0.10812751948833466 Batch_id=58 Accuracy=96.92: 100%|██████████| 59/59 [00:12<00:00,  4.66it/s]\n",
            "  0%|          | 0/59 [00:00<?, ?it/s]"
          ],
          "name": "stderr"
        },
        {
          "output_type": "stream",
          "text": [
            "\n",
            "Test set: Average loss: 0.0765, Accuracy: 9789/10000 (97.89%)\n",
            "\n",
            "EPOCH: 3\n"
          ],
          "name": "stdout"
        },
        {
          "output_type": "stream",
          "text": [
            "Loss=0.07887677103281021 Batch_id=58 Accuracy=97.64: 100%|██████████| 59/59 [00:12<00:00,  4.63it/s]\n",
            "  0%|          | 0/59 [00:00<?, ?it/s]"
          ],
          "name": "stderr"
        },
        {
          "output_type": "stream",
          "text": [
            "\n",
            "Test set: Average loss: 0.0614, Accuracy: 9845/10000 (98.45%)\n",
            "\n",
            "EPOCH: 4\n"
          ],
          "name": "stdout"
        },
        {
          "output_type": "stream",
          "text": [
            "Loss=0.11350914090871811 Batch_id=58 Accuracy=98.16: 100%|██████████| 59/59 [00:12<00:00,  4.64it/s]\n",
            "  0%|          | 0/59 [00:00<?, ?it/s]"
          ],
          "name": "stderr"
        },
        {
          "output_type": "stream",
          "text": [
            "\n",
            "Test set: Average loss: 0.0448, Accuracy: 9875/10000 (98.75%)\n",
            "\n",
            "EPOCH: 5\n"
          ],
          "name": "stdout"
        },
        {
          "output_type": "stream",
          "text": [
            "Loss=0.054380033165216446 Batch_id=58 Accuracy=98.47: 100%|██████████| 59/59 [00:12<00:00,  4.66it/s]\n",
            "  0%|          | 0/59 [00:00<?, ?it/s]"
          ],
          "name": "stderr"
        },
        {
          "output_type": "stream",
          "text": [
            "\n",
            "Test set: Average loss: 0.0445, Accuracy: 9887/10000 (98.87%)\n",
            "\n",
            "EPOCH: 6\n"
          ],
          "name": "stdout"
        },
        {
          "output_type": "stream",
          "text": [
            "Loss=0.04653667286038399 Batch_id=58 Accuracy=98.56: 100%|██████████| 59/59 [00:12<00:00,  4.68it/s]\n",
            "  0%|          | 0/59 [00:00<?, ?it/s]"
          ],
          "name": "stderr"
        },
        {
          "output_type": "stream",
          "text": [
            "\n",
            "Test set: Average loss: 0.0409, Accuracy: 9889/10000 (98.89%)\n",
            "\n",
            "EPOCH: 7\n"
          ],
          "name": "stdout"
        },
        {
          "output_type": "stream",
          "text": [
            "Loss=0.06369050592184067 Batch_id=58 Accuracy=98.73: 100%|██████████| 59/59 [00:12<00:00,  4.64it/s]\n",
            "  0%|          | 0/59 [00:00<?, ?it/s]"
          ],
          "name": "stderr"
        },
        {
          "output_type": "stream",
          "text": [
            "\n",
            "Test set: Average loss: 0.0387, Accuracy: 9897/10000 (98.97%)\n",
            "\n",
            "EPOCH: 8\n"
          ],
          "name": "stdout"
        },
        {
          "output_type": "stream",
          "text": [
            "Loss=0.041287291795015335 Batch_id=58 Accuracy=98.80: 100%|██████████| 59/59 [00:12<00:00,  4.64it/s]\n",
            "  0%|          | 0/59 [00:00<?, ?it/s]"
          ],
          "name": "stderr"
        },
        {
          "output_type": "stream",
          "text": [
            "\n",
            "Test set: Average loss: 0.0336, Accuracy: 9905/10000 (99.05%)\n",
            "\n",
            "EPOCH: 9\n"
          ],
          "name": "stdout"
        },
        {
          "output_type": "stream",
          "text": [
            "Loss=0.021438652649521828 Batch_id=58 Accuracy=98.94: 100%|██████████| 59/59 [00:12<00:00,  4.66it/s]\n",
            "  0%|          | 0/59 [00:00<?, ?it/s]"
          ],
          "name": "stderr"
        },
        {
          "output_type": "stream",
          "text": [
            "\n",
            "Test set: Average loss: 0.0316, Accuracy: 9918/10000 (99.18%)\n",
            "\n",
            "EPOCH: 10\n"
          ],
          "name": "stdout"
        },
        {
          "output_type": "stream",
          "text": [
            "Loss=0.02375994250178337 Batch_id=58 Accuracy=98.97: 100%|██████████| 59/59 [00:12<00:00,  4.66it/s]\n",
            "  0%|          | 0/59 [00:00<?, ?it/s]"
          ],
          "name": "stderr"
        },
        {
          "output_type": "stream",
          "text": [
            "\n",
            "Test set: Average loss: 0.0277, Accuracy: 9916/10000 (99.16%)\n",
            "\n",
            "EPOCH: 11\n"
          ],
          "name": "stdout"
        },
        {
          "output_type": "stream",
          "text": [
            "Loss=0.020972885191440582 Batch_id=58 Accuracy=99.06: 100%|██████████| 59/59 [00:12<00:00,  4.60it/s]\n",
            "  0%|          | 0/59 [00:00<?, ?it/s]"
          ],
          "name": "stderr"
        },
        {
          "output_type": "stream",
          "text": [
            "\n",
            "Test set: Average loss: 0.0286, Accuracy: 9919/10000 (99.19%)\n",
            "\n",
            "EPOCH: 12\n"
          ],
          "name": "stdout"
        },
        {
          "output_type": "stream",
          "text": [
            "Loss=0.024972498416900635 Batch_id=58 Accuracy=99.08: 100%|██████████| 59/59 [00:12<00:00,  4.61it/s]\n",
            "  0%|          | 0/59 [00:00<?, ?it/s]"
          ],
          "name": "stderr"
        },
        {
          "output_type": "stream",
          "text": [
            "\n",
            "Test set: Average loss: 0.0274, Accuracy: 9917/10000 (99.17%)\n",
            "\n",
            "EPOCH: 13\n"
          ],
          "name": "stdout"
        },
        {
          "output_type": "stream",
          "text": [
            "Loss=0.035444289445877075 Batch_id=58 Accuracy=99.16: 100%|██████████| 59/59 [00:12<00:00,  4.66it/s]\n",
            "  0%|          | 0/59 [00:00<?, ?it/s]"
          ],
          "name": "stderr"
        },
        {
          "output_type": "stream",
          "text": [
            "\n",
            "Test set: Average loss: 0.0235, Accuracy: 9923/10000 (99.23%)\n",
            "\n",
            "EPOCH: 14\n"
          ],
          "name": "stdout"
        },
        {
          "output_type": "stream",
          "text": [
            "Loss=0.02655540592968464 Batch_id=58 Accuracy=99.18: 100%|██████████| 59/59 [00:12<00:00,  4.67it/s]\n",
            "  0%|          | 0/59 [00:00<?, ?it/s]"
          ],
          "name": "stderr"
        },
        {
          "output_type": "stream",
          "text": [
            "\n",
            "Test set: Average loss: 0.0247, Accuracy: 9933/10000 (99.33%)\n",
            "\n",
            "EPOCH: 15\n"
          ],
          "name": "stdout"
        },
        {
          "output_type": "stream",
          "text": [
            "Loss=0.011209622956812382 Batch_id=58 Accuracy=99.27: 100%|██████████| 59/59 [00:12<00:00,  4.60it/s]\n",
            "  0%|          | 0/59 [00:00<?, ?it/s]"
          ],
          "name": "stderr"
        },
        {
          "output_type": "stream",
          "text": [
            "\n",
            "Test set: Average loss: 0.0241, Accuracy: 9920/10000 (99.20%)\n",
            "\n",
            "EPOCH: 16\n"
          ],
          "name": "stdout"
        },
        {
          "output_type": "stream",
          "text": [
            "Loss=0.04369388520717621 Batch_id=58 Accuracy=99.28: 100%|██████████| 59/59 [00:12<00:00,  4.65it/s]\n",
            "  0%|          | 0/59 [00:00<?, ?it/s]"
          ],
          "name": "stderr"
        },
        {
          "output_type": "stream",
          "text": [
            "\n",
            "Test set: Average loss: 0.0239, Accuracy: 9925/10000 (99.25%)\n",
            "\n",
            "EPOCH: 17\n"
          ],
          "name": "stdout"
        },
        {
          "output_type": "stream",
          "text": [
            "Loss=0.013534653931856155 Batch_id=58 Accuracy=99.32: 100%|██████████| 59/59 [00:12<00:00,  4.61it/s]\n",
            "  0%|          | 0/59 [00:00<?, ?it/s]"
          ],
          "name": "stderr"
        },
        {
          "output_type": "stream",
          "text": [
            "\n",
            "Test set: Average loss: 0.0273, Accuracy: 9912/10000 (99.12%)\n",
            "\n",
            "EPOCH: 18\n"
          ],
          "name": "stdout"
        },
        {
          "output_type": "stream",
          "text": [
            "Loss=0.050974417477846146 Batch_id=58 Accuracy=99.34: 100%|██████████| 59/59 [00:12<00:00,  4.62it/s]\n",
            "  0%|          | 0/59 [00:00<?, ?it/s]"
          ],
          "name": "stderr"
        },
        {
          "output_type": "stream",
          "text": [
            "\n",
            "Test set: Average loss: 0.0213, Accuracy: 9935/10000 (99.35%)\n",
            "\n",
            "EPOCH: 19\n"
          ],
          "name": "stdout"
        },
        {
          "output_type": "stream",
          "text": [
            "Loss=0.02174355648458004 Batch_id=58 Accuracy=99.36: 100%|██████████| 59/59 [00:12<00:00,  4.62it/s]\n"
          ],
          "name": "stderr"
        },
        {
          "output_type": "stream",
          "text": [
            "\n",
            "Test set: Average loss: 0.0216, Accuracy: 9932/10000 (99.32%)\n",
            "\n"
          ],
          "name": "stdout"
        }
      ]
    },
    {
      "cell_type": "code",
      "metadata": {
        "id": "oXvnkQ_CfyWF"
      },
      "source": [
        ""
      ],
      "execution_count": 7,
      "outputs": []
    }
  ]
}